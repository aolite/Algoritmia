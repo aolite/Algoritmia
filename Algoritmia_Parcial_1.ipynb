{
 "cells": [
  {
   "cell_type": "markdown",
   "metadata": {},
   "source": [
    "# Examen de Algoritmia i Complexitat (1º Parcial)"
   ]
  },
  {
   "cell_type": "markdown",
   "metadata": {},
   "source": [
    "**1 (1 punto).- Demostrar que 𝑓(𝑛) + 𝑔(𝑛)𝜖Ω(min(𝑓(𝑛), 𝑔(𝑛)))**"
   ]
  },
  {
   "cell_type": "markdown",
   "metadata": {},
   "source": [
    "Primero hay que demostrar que $ f(n)+g(n) \\in \\Omega(f(n)) $ suponiendo que $f(n)$ es el minimo. "
   ]
  },
  {
   "cell_type": "markdown",
   "metadata": {},
   "source": [
    "$ f(n)+g(n) \\in \\Omega(f(n)) $ \n",
    "\n",
    "Sabiendo de la teoria que: \n",
    "\n",
    "$ f(n) \\in \\Omega(g(n)) \\geqslant g(n) * k $\n",
    "\n",
    "Podemos empezar con la formulación y demostración del problema\n",
    "\n",
    "$f(n) + g(n) \\geqslant k* f(n) \\implies  \\dfrac{(f(n)+g(n))}{f(n)} \\geqslant k \\implies 1+ \\dfrac{g(n)}{f(n)} \\geqslant k$"
   ]
  },
  {
   "cell_type": "markdown",
   "metadata": {},
   "source": [
    "Como hemos asumido que $ min (f(x), g(x) ) $ es $f(x)$ entonces queda:"
   ]
  },
  {
   "cell_type": "markdown",
   "metadata": {},
   "source": [
    "$2 \\geqslant k \\implies k \\leqslant 2$"
   ]
  },
  {
   "cell_type": "markdown",
   "metadata": {},
   "source": [
    "Por lo tanto, existe un $k$ que satisface dicha existencia. Lo mismo sería para la supocusión de $min (f(x), g(x)) = g(x)$"
   ]
  },
  {
   "cell_type": "markdown",
   "metadata": {},
   "source": [
    "**2 (1punto).- Determinar la complejidad del siguiente algoritmo, donde $m$ y $n$ son dos numeros enteros positivos**"
   ]
  },
  {
   "cell_type": "markdown",
   "metadata": {},
   "source": [
    "``` \n",
    "i<- 1\n",
    "j<- 1\n",
    "while j <= n/3 do\n",
    "  if i <= m/2 then\n",
    "    i<- i+1\n",
    "  else \n",
    "    j <- j+1\n",
    "    i <- 1\n",
    "```"
   ]
  },
  {
   "cell_type": "markdown",
   "metadata": {},
   "source": [
    "Lo primero que hacemos es pasarlo a python"
   ]
  },
  {
   "cell_type": "code",
   "execution_count": 1,
   "metadata": {},
   "outputs": [],
   "source": [
    "def myFunc(m,n): \n",
    "    i= 1\n",
    "    j= 1\n",
    "    while j <= n/3:\n",
    "        if i<= m/2:\n",
    "            i= i+1\n",
    "        else:\n",
    "            j= j+1\n",
    "            i = 1\n",
    "    return [i,j]"
   ]
  },
  {
   "cell_type": "markdown",
   "metadata": {},
   "source": [
    "Lo segundo que hacemos, es introducir nuestra función de calculo de gráfica y tiempo: "
   ]
  },
  {
   "cell_type": "code",
   "execution_count": 35,
   "metadata": {},
   "outputs": [],
   "source": [
    "import random\n",
    "import timeit\n",
    "def calculoGrafica (): \n",
    "    temps = []\n",
    "    for x in range(1,10,2):\n",
    "        n = x\n",
    "        m = x*2 \n",
    "        temps.append( (x, timeit.timeit(\"myFunc(\"+str(m)+\",\"+ str(n)+\")\",\n",
    "            setup=\"from __main__ import myFunc\")))\n",
    "    return temps\n",
    "        "
   ]
  },
  {
   "cell_type": "code",
   "execution_count": 36,
   "metadata": {},
   "outputs": [
    {
     "data": {
      "text/plain": [
       "[1, 1]"
      ]
     },
     "execution_count": 36,
     "metadata": {},
     "output_type": "execute_result"
    }
   ],
   "source": [
    "myFunc(5,2)"
   ]
  },
  {
   "cell_type": "code",
   "execution_count": 37,
   "metadata": {},
   "outputs": [],
   "source": [
    "import matplotlib.pyplot as plt\n",
    "def crear_grafica( x_list, y_list ):\n",
    "    plt.scatter(x_list, y_list)\n",
    "    plt.show()\n"
   ]
  },
  {
   "cell_type": "code",
   "execution_count": 38,
   "metadata": {},
   "outputs": [
    {
     "data": {
      "image/png": "[encoded data removed]",
      "text/plain": [
       "<Figure size 432x288 with 1 Axes>"
      ]
     },
     "metadata": {
      "needs_background": "light"
     },
     "output_type": "display_data"
    }
   ],
   "source": [
    "t = calculoGrafica()\n",
    "crear_grafica(*map(list, zip(*t)))"
   ]
  },
  {
   "cell_type": "markdown",
   "metadata": {},
   "source": [
    "Como se puede apreciar en el código, el peor de los casos es cuando $m/2$ es mayor que $n/2$. En este caso, se puede apreciar como la complejidad del algoritmo es $=O(m*n)$ en el caso intermedio es $O(n)$ y en el mejor de los casos es $ O(1)$. Tal y como se puede apreciar en la gráfica, la complejiad es $O(m*n)$"
   ]
  },
  {
   "cell_type": "markdown",
   "metadata": {},
   "source": [
    "**Problema:** Dada una secuencia de enteros, encontrar los numeros pares que existen: \n",
    "\n",
    "> - Ejemplo: \n",
    "> - Data la siguiente secuencia: {5,2,-1,3,6, -4}\n",
    "> - El número de pares existente es. 3\n",
    "  \n",
    "**3 (1 punto).- Definir las pre-condiciones y post-condiciones del algoritmo que de la solución al enunciado.**"
   ]
  },
  {
   "cell_type": "markdown",
   "metadata": {},
   "source": [
    "$P: A \\equiv \\{ a_1, a_2, a,3...a_n \\} \\forall a_i \\in Z $\n",
    "\n",
    "$Q: |B| \\forall B \\subset A \\mid b_i \\% 2 = 0 $"
   ]
  },
  {
   "cell_type": "markdown",
   "metadata": {},
   "source": [
    "**4 (2puntos).- Proponer un algoritmo recursivo no final que provea de una solución al problema.**"
   ]
  },
  {
   "cell_type": "code",
   "execution_count": 68,
   "metadata": {},
   "outputs": [],
   "source": [
    "def nPares (A):\n",
    "    if not A: \n",
    "        return 0\n",
    "    return int(not (A[0] % 2)) + nPares(A[1:])"
   ]
  },
  {
   "cell_type": "code",
   "execution_count": 69,
   "metadata": {},
   "outputs": [
    {
     "data": {
      "text/plain": [
       "3"
      ]
     },
     "execution_count": 69,
     "metadata": {},
     "output_type": "execute_result"
    }
   ],
   "source": [
    "nPares([5,2,-1,3,6,-4])"
   ]
  },
  {
   "cell_type": "markdown",
   "metadata": {},
   "source": [
    "**5 (2puntos).- Proponer un algoritmo equivalente recursivo final que provea una solución al problema**"
   ]
  },
  {
   "cell_type": "code",
   "execution_count": 70,
   "metadata": {},
   "outputs": [],
   "source": [
    "def nPares2 (A, result = 0):\n",
    "    if not A: \n",
    "        return result\n",
    "    return nPares2 (A[1:], result + int(not (A[0] % 2))) "
   ]
  },
  {
   "cell_type": "code",
   "execution_count": 71,
   "metadata": {},
   "outputs": [
    {
     "data": {
      "text/plain": [
       "3"
      ]
     },
     "execution_count": 71,
     "metadata": {},
     "output_type": "execute_result"
    }
   ],
   "source": [
    "nPares2([5,2,-1,3,6,-4])"
   ]
  },
  {
   "cell_type": "markdown",
   "metadata": {},
   "source": [
    "**6 (2puntos).- Proponer el algoritmo equivalente iterativo**"
   ]
  },
  {
   "cell_type": "code",
   "execution_count": 72,
   "metadata": {},
   "outputs": [],
   "source": [
    "def nPares3 (A):\n",
    "    result = 0\n",
    "    while A: \n",
    "        result = result + int(not (A[0] % 2))\n",
    "        A = A[1:]\n",
    "    return result"
   ]
  },
  {
   "cell_type": "code",
   "execution_count": 73,
   "metadata": {},
   "outputs": [
    {
     "data": {
      "text/plain": [
       "3"
      ]
     },
     "execution_count": 73,
     "metadata": {},
     "output_type": "execute_result"
    }
   ],
   "source": [
    "nPares3([5,2,-1,3,6,-4])"
   ]
  },
  {
   "cell_type": "markdown",
   "metadata": {},
   "source": [
    "**7 (1 punto).- Proponer la complejidad del algoritmo anterior. Es necesario dar la solución correspomdiente teniendo en cuenta el primer algoritmo (recursivo).**"
   ]
  },
  {
   "cell_type": "markdown",
   "metadata": {},
   "source": [
    "Teniendo en cuenta el siguiente algoritmo: \n",
    "```python\n",
    "def nPares (A):\n",
    "    if not A: \n",
    "        return 0\n",
    "    return int(not (A[0] % 2)) + nPares(A[1:])\n",
    "```"
   ]
  },
  {
   "cell_type": "markdown",
   "metadata": {},
   "source": [
    "Se puede apreciar que $T(n) = T(n-1) + O(1)$ donde n es el tamaño de la lista/Array. En este caso, $int()$ y $not()$ se consideran como coste uno al ser una transformación simple. Teniendo en cuenta estos aspectos, el coste del algoritmo es: \n",
    "\n",
    "$O(n)$\n",
    "\n",
    "Además, el algoritmo recursivo final, recursivo no final e iterativo, al traterse de una misma función y transformados con la metodología correspondiente. Todos ellos tienen coste $O(n)$"
   ]
  },
  {
   "cell_type": "markdown",
   "metadata": {},
   "source": [
    "Como soporte, se puede apreciar la siguiente grafica para diferentes tamaños de array: "
   ]
  },
  {
   "cell_type": "code",
   "execution_count": 76,
   "metadata": {},
   "outputs": [],
   "source": [
    "import numpy as np\n",
    "from timeit import Timer\n",
    "def calculoCosto ():\n",
    "    temps = []\n",
    "    for x in range(1,10,2): \n",
    "        arr = np.random.randint(100, size= x).tolist()\n",
    "        timingFunc = Timer(lambda: nPares(arr))\n",
    "        temps.append( (x, timingFunc.timeit()))\n",
    "    return temps"
   ]
  },
  {
   "cell_type": "code",
   "execution_count": 77,
   "metadata": {},
   "outputs": [
    {
     "data": {
      "image/png": "[encoded data removed]",
      "text/plain": [
       "<Figure size 432x288 with 1 Axes>"
      ]
     },
     "metadata": {
      "needs_background": "light"
     },
     "output_type": "display_data"
    }
   ],
   "source": [
    "tint = calculoCosto()\n",
    "crear_grafica(*map(list, zip(*tint)))"
   ]
  },
  {
   "cell_type": "code",
   "execution_count": null,
   "metadata": {},
   "outputs": [],
   "source": []
  }
 ],
 "metadata": {
  "kernelspec": {
   "display_name": "Python 3",
   "language": "python",
   "name": "python3"
  },
  "language_info": {
   "codemirror_mode": {
    "name": "ipython",
    "version": 3
   },
   "file_extension": ".py",
   "mimetype": "text/x-python",
   "name": "python",
   "nbconvert_exporter": "python",
   "pygments_lexer": "ipython3",
   "version": "3.8.5"
  }
 },
 "nbformat": 4,
 "nbformat_minor": 4
}
